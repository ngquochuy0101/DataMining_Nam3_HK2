{
 "cells": [
  {
   "cell_type": "code",
   "execution_count": 6,
   "metadata": {
    "execution": {
     "iopub.execute_input": "2025-05-15T04:18:15.058461Z",
     "iopub.status.busy": "2025-05-15T04:18:15.058274Z",
     "iopub.status.idle": "2025-05-15T04:18:15.072108Z",
     "shell.execute_reply": "2025-05-15T04:18:15.071389Z",
     "shell.execute_reply.started": "2025-05-15T04:18:15.058447Z"
    },
    "trusted": true
   },
   "outputs": [],
   "source": [
    "import torch\n",
    "import torch.nn as nn\n",
    "from sklearn.metrics import classification_report\n",
    "import torch.optim as optim\n",
    "import gc\n",
    "from tqdm import tqdm\n",
    "import matplotlib.pyplot as plt\n",
    "import multiprocessing\n",
    "import os\n",
    "from PIL import Image\n",
    "from torch.utils.data import Dataset, DataLoader\n",
    "from torchvision import transforms\n"
   ]
  },
  {
   "cell_type": "code",
   "execution_count": 7,
   "metadata": {
    "_cell_guid": "b1076dfc-b9ad-4769-8c92-a6c4dae69d19",
    "_uuid": "8f2839f25d086af736a60e9eeb907d3b93b6e0e5",
    "execution": {
     "iopub.execute_input": "2025-05-15T04:18:15.050451Z",
     "iopub.status.busy": "2025-05-15T04:18:15.049651Z",
     "iopub.status.idle": "2025-05-15T04:18:15.057354Z",
     "shell.execute_reply": "2025-05-15T04:18:15.056538Z",
     "shell.execute_reply.started": "2025-05-15T04:18:15.050418Z"
    },
    "trusted": true
   },
   "outputs": [],
   "source": [
    "\n",
    "class MyDataset(Dataset):\n",
    "    def __init__(self, root_dir, transform=None):\n",
    "        self.root_dir = root_dir\n",
    "        self.transform = transform\n",
    "\n",
    "        self.images = []\n",
    "        self.labels = []\n",
    "        self.class_to_idx = {}\n",
    "\n",
    "        self.class_names = sorted(os.listdir(self.root_dir))\n",
    "\n",
    "        for i, cls_name in enumerate(self.class_names):\n",
    "            cls_path = os.path.join(self.root_dir,cls_name)\n",
    "            for img_name in os.listdir(cls_path):\n",
    "                img_path=os.path.join(cls_path,img_name)\n",
    "                self.images.append(img_path)\n",
    "                self.labels.append(i)\n",
    "    def __len__(self):\n",
    "        return len(self.labels)\n",
    "    def __getitem__(self, idx):\n",
    "        img_path=self.images[idx]\n",
    "        label = self.labels[idx]\n",
    "        image = Image.open(img_path).convert(\"RGB\")\n",
    "        if self.transform:\n",
    "            image = self.transform(image)\n",
    "        return image, label\n",
    "    def get_class_names(self):\n",
    "        return self.class_names"
   ]
  },
  {
   "cell_type": "code",
   "execution_count": 8,
   "metadata": {
    "execution": {
     "iopub.execute_input": "2025-05-15T04:18:15.073054Z",
     "iopub.status.busy": "2025-05-15T04:18:15.072759Z",
     "iopub.status.idle": "2025-05-15T04:18:15.084007Z",
     "shell.execute_reply": "2025-05-15T04:18:15.083404Z",
     "shell.execute_reply.started": "2025-05-15T04:18:15.073026Z"
    },
    "trusted": true
   },
   "outputs": [],
   "source": [
    "class CNN(nn.Module):\n",
    "    def __init__ (self, num_classes):\n",
    "        super(CNN, self).__init__()\n",
    "        self.conv_layers = nn.Sequential(\n",
    "            #(64,64)\n",
    "            nn.Conv2d(1,8,3, padding =2 ), #(66)\n",
    "            nn.MaxPool2d(2,2), #33\n",
    "            nn.ReLU(),\n",
    "            nn.BatchNorm2d(8),\n",
    "            \n",
    "            nn.Conv2d(8,32,3, padding =2 ),#35\n",
    "            nn.MaxPool2d(2,2),#17\n",
    "            nn.ReLU(),\n",
    "            nn.BatchNorm2d(32),\n",
    "            \n",
    "            nn.Conv2d(32,64,3, padding =2 ),#19\n",
    "            nn.MaxPool2d(2,2),#9\n",
    "            nn.ReLU(),\n",
    "            nn.BatchNorm2d(64),\n",
    "            \n",
    "            nn.Conv2d(64,128,3, padding =2 ),#11\n",
    "            nn.MaxPool2d(2,2),#5\n",
    "            nn.ReLU(),\n",
    "            nn.BatchNorm2d(128)\n",
    "\n",
    "        )\n",
    "        self.fc_layers =nn.Sequential(\n",
    "            nn.Flatten(),\n",
    "            nn.Linear(128*5*5,128),\n",
    "            nn.Dropout(0.5),\n",
    "            nn.Linear(128,256),\n",
    "            nn.Dropout(0.5),\n",
    "            nn.Linear(256,512),\n",
    "            nn.Dropout(0.5),\n",
    "            nn.Linear(512,num_classes)\n",
    "        \n",
    "        )\n",
    "    def forward(self, x):\n",
    "        x = self.conv_layers(x)\n",
    "        x = self.fc_layers(x)\n",
    "        return x\n"
   ]
  },
  {
   "cell_type": "code",
   "execution_count": 9,
   "metadata": {
    "execution": {
     "iopub.execute_input": "2025-05-15T04:18:15.085561Z",
     "iopub.status.busy": "2025-05-15T04:18:15.085350Z",
     "iopub.status.idle": "2025-05-15T04:18:15.097167Z",
     "shell.execute_reply": "2025-05-15T04:18:15.096647Z",
     "shell.execute_reply.started": "2025-05-15T04:18:15.085547Z"
    },
    "trusted": true
   },
   "outputs": [],
   "source": [
    "def evaluate_model(model, test_loader, device, verbose =True):\n",
    "    model.eval()\n",
    "    correct = 0\n",
    "    total = 0\n",
    "    with torch.no_grad():\n",
    "        for images, labels in test_loader:\n",
    "            images, labels = images.to(device), labels.to(device)\n",
    "            outputs = model(images)\n",
    "            _,predicted = outputs.max(1)\n",
    "            total +=labels.size(0)\n",
    "            correct += predicted.eq(labels).sum().item()\n",
    "            del images, labels, outputs, predicted\n",
    "            torch.cuda.empty_cache()\n",
    "            gc.collect()\n",
    "        acc = 100.0 * correct/total\n",
    "    # if verbose:\n",
    "    #     print (\"Test Accuracy: \",acc)\n",
    "    return acc"
   ]
  },
  {
   "cell_type": "code",
   "execution_count": 10,
   "metadata": {
    "execution": {
     "iopub.execute_input": "2025-05-15T04:18:15.098117Z",
     "iopub.status.busy": "2025-05-15T04:18:15.097866Z",
     "iopub.status.idle": "2025-05-15T04:18:15.107476Z",
     "shell.execute_reply": "2025-05-15T04:18:15.106838Z",
     "shell.execute_reply.started": "2025-05-15T04:18:15.098096Z"
    },
    "trusted": true
   },
   "outputs": [],
   "source": [
    "def generate_classification_report(model, test_loader, class_names, device):\n",
    "    model.eval()\n",
    "    all_preds = []\n",
    "    all_labels = []\n",
    "\n",
    "    with torch.no_grad():\n",
    "        for image, label in test_loader:\n",
    "            image, label = image.to(device), label.to(device)\n",
    "            outputs = model(image)\n",
    "            _, predicted = outputs.max(1)\n",
    "            all_preds.extend(predicted.cpu().numpy())\n",
    "            all_labels.extend(label.cpu().numpy())\n",
    "            del image, label, predicted, outputs\n",
    "            torch.cuda.empty_cache()\n",
    "            gc.collect()\n",
    "    print(classification_report(all_labels,all_preds,target_names=class_names))"
   ]
  },
  {
   "cell_type": "code",
   "execution_count": 11,
   "metadata": {
    "execution": {
     "iopub.execute_input": "2025-05-15T04:18:15.108434Z",
     "iopub.status.busy": "2025-05-15T04:18:15.108227Z",
     "iopub.status.idle": "2025-05-15T04:18:15.121080Z",
     "shell.execute_reply": "2025-05-15T04:18:15.120394Z",
     "shell.execute_reply.started": "2025-05-15T04:18:15.108411Z"
    },
    "trusted": true
   },
   "outputs": [],
   "source": [
    "def plot_metrics(losses, train_accs, test_accs):\n",
    "    epochs = range(1, len(losses) + 1)\n",
    "\n",
    "    plt.figure(figsize=(12, 5))\n",
    "\n",
    "    plt.subplot(1, 2, 1)\n",
    "    plt.plot(epochs, losses, 'r-o')\n",
    "    plt.title('Training Loss')\n",
    "    plt.xlabel('Epoch')\n",
    "    plt.ylabel('Loss')\n",
    "\n",
    "    plt.subplot(1, 2, 2)\n",
    "    plt.plot(epochs, train_accs, 'b-o', label='Train Acc')\n",
    "    plt.plot(epochs, test_accs, 'g-o', label='Test Acc')\n",
    "    plt.title('Accuracy')\n",
    "    plt.xlabel('Epoch')\n",
    "    plt.ylabel('Accuracy (%)')\n",
    "    plt.legend()\n",
    "\n",
    "    plt.tight_layout()\n",
    "    plt.savefig(\"training_metrics.png\")  # Lưu biểu đồ nếu cần\n",
    "    plt.show()"
   ]
  },
  {
   "cell_type": "code",
   "execution_count": 12,
   "metadata": {
    "execution": {
     "iopub.execute_input": "2025-05-15T04:18:15.233915Z",
     "iopub.status.busy": "2025-05-15T04:18:15.233144Z",
     "iopub.status.idle": "2025-05-15T04:18:15.240399Z",
     "shell.execute_reply": "2025-05-15T04:18:15.239703Z",
     "shell.execute_reply.started": "2025-05-15T04:18:15.233890Z"
    },
    "trusted": true
   },
   "outputs": [],
   "source": [
    "def train_model (model, train_loader, test_loader, device, epochs=10):\n",
    "    criterion = nn.CrossEntropyLoss()\n",
    "    optimizer = optim.Adam(model.parameters(), lr=0.001)\n",
    "\n",
    "    model.to(device)\n",
    "\n",
    "    train_losses = []\n",
    "    train_accuracies = []\n",
    "    test_accuracies = []\n",
    "\n",
    "    for epoch in range(epochs):\n",
    "        model.train()\n",
    "        running_loss = 0.0\n",
    "        correct, total =0,0\n",
    "\n",
    "        for image, label in tqdm(train_loader, desc=f\"Epoch {epoch+1}/{epochs}\"):\n",
    "            image, label = image.to(device), label.to(device)\n",
    "            optimizer.zero_grad()\n",
    "            outputs = model(image)\n",
    "            loss = criterion (outputs,label)\n",
    "            loss.backward()\n",
    "            optimizer.step()\n",
    "\n",
    "            running_loss += loss.item()\n",
    "            _,predicted = outputs.max(1)\n",
    "            total += label.size(0)\n",
    "            correct += predicted.eq(label).sum().item()\n",
    "\n",
    "            del image, label, loss, outputs, predicted\n",
    "            torch.cuda.empty_cache()\n",
    "            gc.collect()\n",
    "\n",
    "        train_acc = 100.0 *correct/total\n",
    "        train_losses.append(running_loss)\n",
    "        train_accuracies.append(train_acc)\n",
    "\n",
    "        test_acc = evaluate_model(model, test_loader, device, verbose=True)\n",
    "        test_accuracies.append(test_acc)\n",
    "\n",
    "        print(f\"Epoch {epoch+1}: Loss={running_loss}, Train Acc={train_acc}%, Test Acc={test_acc}%\")\n",
    "        torch.cuda.empty_cache()\n",
    "        gc.collect()\n",
    "    plot_metrics(train_losses, train_accuracies, test_accuracies)\n",
    "\n"
   ]
  },
  {
   "cell_type": "code",
   "execution_count": 13,
   "metadata": {
    "execution": {
     "iopub.execute_input": "2025-05-15T04:18:15.241879Z",
     "iopub.status.busy": "2025-05-15T04:18:15.241657Z",
     "iopub.status.idle": "2025-05-15T04:18:15.334410Z",
     "shell.execute_reply": "2025-05-15T04:18:15.333795Z",
     "shell.execute_reply.started": "2025-05-15T04:18:15.241864Z"
    },
    "trusted": true
   },
   "outputs": [
    {
     "name": "stdout",
     "output_type": "stream",
     "text": [
      "cpu\n"
     ]
    }
   ],
   "source": [
    "device = torch.device(\"cuda\"if torch.cuda.is_available() else \"cpu\")\n",
    "print(device)\n",
    "transform = transforms.Compose([\n",
    "    transforms.ToTensor(),\n",
    "    transforms.Grayscale(num_output_channels=1)\n",
    "])"
   ]
  },
  {
   "cell_type": "code",
   "execution_count": null,
   "metadata": {
    "execution": {
     "iopub.execute_input": "2025-05-15T04:18:15.335340Z",
     "iopub.status.busy": "2025-05-15T04:18:15.335161Z",
     "iopub.status.idle": "2025-05-15T04:18:15.345206Z",
     "shell.execute_reply": "2025-05-15T04:18:15.344608Z",
     "shell.execute_reply.started": "2025-05-15T04:18:15.335327Z"
    },
    "trusted": true
   },
   "outputs": [
    {
     "name": "stdout",
     "output_type": "stream",
     "text": [
      "2\n"
     ]
    },
    {
     "name": "stderr",
     "output_type": "stream",
     "text": [
      "Epoch 1/15:   0%|          | 0/1875 [00:00<?, ?it/s]"
     ]
    }
   ],
   "source": [
    "\n",
    "\n",
    "train_dataset_good = MyDataset(root_dir=r\"E:\\KPDL-CK\\data\\processed\\dataset\\train\\Good\",transform=transform)\n",
    "test_dataset_good = MyDataset(root_dir=r\"E:\\KPDL-CK\\data\\processed\\dataset\\test\\good\",transform=transform)\n",
    "\n",
    "train_dataloader_good = DataLoader(train_dataset_good, batch_size = 32, shuffle=True, drop_last = True, num_workers=3)\n",
    "test_dataloader_good = DataLoader(test_dataset_good, batch_size = 32, num_workers=3)\n",
    "class_names =train_dataset_good.get_class_names()\n",
    "num_classes = len(train_dataset_good.get_class_names())\n",
    "\n",
    "print(num_classes)\n",
    "\n",
    "model = CNN(num_classes = num_classes)\n",
    "\n",
    "train_model(model, train_dataloader_good, test_dataloader_good, device, epochs=15)\n",
    "generate_classification_report (model, test_dataloader_good,class_names, device)\n",
    "torch.save(model.state_dict(),r\"E:\\KPDL-CK\\models\\CNN\\good.pth\")\n",
    "print(\"✅ Mô hình đã được lưu thành công.\")"
   ]
  },
  {
   "cell_type": "code",
   "execution_count": null,
   "metadata": {
    "execution": {
     "iopub.execute_input": "2025-05-15T04:18:15.346307Z",
     "iopub.status.busy": "2025-05-15T04:18:15.345997Z"
    },
    "trusted": true
   },
   "outputs": [],
   "source": [
    "\n",
    "\n",
    "train_dataset_metal = MyDataset(root_dir=r\"E:\\KPDL-CK\\data\\processed\\dataset\\train\\Metal_contamination\",transform=transform)\n",
    "test_dataset_metal = MyDataset(root_dir=r\"E:\\KPDL-CK\\data\\processed\\dataset\\test\\metal\",transform=transform)\n",
    "\n",
    "train_dataloader_metal = DataLoader(train_dataset_metal, batch_size = 32, shuffle=True, drop_last = True, num_workers=3)\n",
    "test_dataloader_metal = DataLoader(test_dataset_metal, batch_size = 32, num_workers=3)\n",
    "\n",
    "class_names =train_dataset_metal.get_class_names()\n",
    "\n",
    "num_classes = 2\n",
    "\n",
    "print(num_classes)\n",
    "\n",
    "model_metal = CNN(num_classes = num_classes)\n",
    "\n",
    "train_model(model_metal, train_dataloader_metal, test_dataloader_metal, device, epochs=10)\n",
    "generate_classification_report (model_metal, test_dataloader_metal,class_names, device)\n",
    "torch.save(model_metal.state_dict(),r\"E:\\KPDL-CK\\models\\CNN\\metal.pth\")\n",
    "print(\"✅ Mô hình đã được lưu thành công.\")"
   ]
  },
  {
   "cell_type": "code",
   "execution_count": null,
   "metadata": {
    "trusted": true
   },
   "outputs": [],
   "source": [
    "\n",
    "\n",
    "train_dataset_cut = MyDataset(root_dir=r\"E:\\KPDL-CK\\data\\processed\\dataset\\train\\cut\",transform=transform)\n",
    "test_dataset_cut = MyDataset(root_dir=r\"E:\\KPDL-CK\\data\\processed\\dataset\\test\\cut\",transform=transform)\n",
    "\n",
    "train_dataloader_cut = DataLoader(train_dataset_cut, batch_size = 32, shuffle=True, drop_last = True, num_workers=3)\n",
    "test_dataloader_cut = DataLoader(test_dataset_cut, batch_size = 32, num_workers=3)\n",
    "\n",
    "class_names =train_dataset_cut.get_class_names()\n",
    "\n",
    "num_classes = 2\n",
    "print(num_classes)\n",
    "\n",
    "model_cut = CNN(num_classes = num_classes)\n",
    "\n",
    "train_model(model_cut, train_dataloader_cut, test_dataloader_cut, device, epochs=15)\n",
    "generate_classification_report (model_cut, test_dataloader_cut,class_names, device)\n",
    "torch.save(model_cut.state_dict(),r\"E:\\KPDL-CK\\models\\CNN\\cut.pth\")\n",
    "print(\"✅ Mô hình đã được lưu thành công.\")"
   ]
  },
  {
   "cell_type": "code",
   "execution_count": null,
   "metadata": {
    "trusted": true
   },
   "outputs": [],
   "source": [
    "\n",
    "\n",
    "train_dataset_thread = MyDataset(root_dir=r\"data/processed/dataset/train/Thread\",transform=transform)\n",
    "test_dataset_thread = MyDataset(root_dir=r\"E:\\KPDL-CK\\data\\processed\\dataset\\test\\thread\",transform=transform)\n",
    "\n",
    "train_dataloader_thread = DataLoader(train_dataset_thread, batch_size = 32, shuffle=True, drop_last = True, num_workers=3)\n",
    "test_dataloader_thread = DataLoader(test_dataset_thread, batch_size = 32, num_workers=3)\n",
    "\n",
    "class_names =train_dataset_thread.get_class_names()\n",
    "\n",
    "num_classes = 2\n",
    "print(num_classes)\n",
    "\n",
    "model_thread = CNN(num_classes = num_classes)\n",
    "\n",
    "train_model(model_thread, train_dataloader_thread, test_dataloader_thread, device, epochs=15)\n",
    "generate_classification_report (model_thread, test_dataloader_thread,class_names, device)\n",
    "torch.save(model_thread.state_dict(),\"thread.pth\")\n",
    "print(\"✅ Mô hình đã được lưu thành công.\")"
   ]
  },
  {
   "cell_type": "code",
   "execution_count": null,
   "metadata": {
    "trusted": true
   },
   "outputs": [],
   "source": [
    "import zipfile\n",
    "import os\n",
    "from IPython.display import FileLink\n",
    "\n",
    "def zip_dir(directory = os.curdir, file_name = 'directory.zip'):\n",
    "    \"\"\"\n",
    "    zip all the files in a directory\n",
    "    \n",
    "    Parameters\n",
    "    _____\n",
    "    directory: str\n",
    "        directory needs to be zipped, defualt is current working directory\n",
    "        \n",
    "    file_name: str\n",
    "        the name of the zipped file (including .zip), default is 'directory.zip'\n",
    "        \n",
    "    Returns\n",
    "    _____\n",
    "    Creates a hyperlink, which can be used to download the zip file)\n",
    "    \"\"\"\n",
    "    os.chdir(directory)\n",
    "    zip_ref = zipfile.ZipFile(file_name, mode='w')\n",
    "    for folder, _, files in os.walk(directory):\n",
    "        for file in files:\n",
    "            if file_name in file:\n",
    "                pass\n",
    "            else:\n",
    "                zip_ref.write(os.path.join(folder, file))\n",
    "\n",
    "    return FileLink(file_name)\n",
    "zip_dir()\n"
   ]
  }
 ],
 "metadata": {
  "kaggle": {
   "accelerator": "nvidiaTeslaT4",
   "dataSources": [
    {
     "datasetId": 7405540,
     "sourceId": 11793625,
     "sourceType": "datasetVersion"
    }
   ],
   "isGpuEnabled": true,
   "isInternetEnabled": true,
   "language": "python",
   "sourceType": "notebook"
  },
  "kernelspec": {
   "display_name": "Python 3",
   "language": "python",
   "name": "python3"
  },
  "language_info": {
   "codemirror_mode": {
    "name": "ipython",
    "version": 3
   },
   "file_extension": ".py",
   "mimetype": "text/x-python",
   "name": "python",
   "nbconvert_exporter": "python",
   "pygments_lexer": "ipython3",
   "version": "3.10.11"
  }
 },
 "nbformat": 4,
 "nbformat_minor": 4
}
