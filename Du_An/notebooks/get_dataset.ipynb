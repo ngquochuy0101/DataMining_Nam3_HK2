{
 "cells": [
  {
   "cell_type": "code",
   "execution_count": 1,
   "metadata": {
    "execution": {
     "iopub.execute_input": "2025-03-29T20:59:27.010838Z",
     "iopub.status.busy": "2025-03-29T20:59:27.010606Z",
     "iopub.status.idle": "2025-03-29T20:59:27.016836Z",
     "shell.execute_reply": "2025-03-29T20:59:27.015925Z",
     "shell.execute_reply.started": "2025-03-29T20:59:27.010814Z"
    },
    "id": "O0maVQU1Vsri",
    "trusted": true
   },
   "outputs": [
    {
     "name": "stdout",
     "output_type": "stream",
     "text": [
      "WARNING:tensorflow:From c:\\Users\\quoch\\AppData\\Local\\Programs\\Orange\\Lib\\site-packages\\tf_keras\\src\\losses.py:2976: The name tf.losses.sparse_softmax_cross_entropy is deprecated. Please use tf.compat.v1.losses.sparse_softmax_cross_entropy instead.\n",
      "\n"
     ]
    }
   ],
   "source": [
    "# import the libraries\n",
    "# %pip install scikit-learn\n",
    "\n",
    "import os\n",
    "import glob\n",
    "import pickle\n",
    "\n",
    "import tensorflow as tf    # used for creating tensors out of the dataset and training the model\n",
    "import tensorflow_hub as hub    # downloading and using pre-trained models\n",
    "import numpy as np\n",
    "import h5py   # to manipulate the dataset as it's in `.h5` format\n",
    "import pandas as pd\n",
    "import cv2\n",
    "import plotly.express as px\n",
    "import matplotlib.pyplot as plt\n",
    "from sklearn.metrics import classification_report   # essential for model's evaluation\n",
    "from sklearn.metrics import f1_score\n",
    "from tqdm import tqdm   # getting a progress bar for an iterable object"
   ]
  },
  {
   "cell_type": "code",
   "execution_count": 4,
   "metadata": {
    "execution": {
     "iopub.execute_input": "2025-03-29T20:59:48.289936Z",
     "iopub.status.busy": "2025-03-29T20:59:48.289541Z",
     "iopub.status.idle": "2025-03-29T20:59:48.347785Z",
     "shell.execute_reply": "2025-03-29T20:59:48.347112Z",
     "shell.execute_reply.started": "2025-03-29T20:59:48.289897Z"
    },
    "trusted": true
   },
   "outputs": [],
   "source": [
    "train_df64 = pd.read_csv(r\"E:\\KPDL-CK\\data\\raw\\textiledefectdetection\\train64.csv\")\n",
    "test_df64 = pd.read_csv(r\"E:\\KPDL-CK\\data\\raw\\textiledefectdetection\\test64.csv\")\n",
    "# angle là gốc chụp\n",
    "#indication_type là loại vãi\n",
    "#indication_value là giá trị theo bảng sau: 0-5\n",
    "# good (bình thường)\n",
    "# color (lỗi màu)\n",
    "# cut (bị cắt)\n",
    "# hole (lỗ thủng)\n",
    "# thread (lỗi chỉ)\n",
    "# metal_contamination (lẫn tạp chất kim loại)"
   ]
  },
  {
   "cell_type": "code",
   "execution_count": 5,
   "metadata": {
    "execution": {
     "iopub.execute_input": "2025-03-29T20:59:52.570275Z",
     "iopub.status.busy": "2025-03-29T20:59:52.570045Z",
     "iopub.status.idle": "2025-03-29T20:59:52.578180Z",
     "shell.execute_reply": "2025-03-29T20:59:52.577285Z",
     "shell.execute_reply.started": "2025-03-29T20:59:52.570253Z"
    },
    "trusted": true
   },
   "outputs": [
    {
     "name": "stdout",
     "output_type": "stream",
     "text": [
      "   index  angle indication_type  indication_value  split\n",
      "0  48000      0            good                 0  train\n",
      "1  48001     80            good                 0  train\n",
      "2  48002    100            good                 0  train\n",
      "3  48003    100            good                 0  train\n",
      "4  48004      0            good                 0  train\n",
      "   index  angle indication_type  indication_value split\n",
      "0      0    100            good                 0  test\n",
      "1      1     40            good                 0  test\n",
      "2      2     40            good                 0  test\n",
      "3      3    120            good                 0  test\n",
      "4      4     20            good                 0  test\n"
     ]
    }
   ],
   "source": [
    "print(train_df64.head())\n",
    "print(test_df64.head())\n"
   ]
  },
  {
   "cell_type": "code",
   "execution_count": 6,
   "metadata": {
    "execution": {
     "iopub.execute_input": "2025-03-29T20:59:57.278807Z",
     "iopub.status.busy": "2025-03-29T20:59:57.278458Z",
     "iopub.status.idle": "2025-03-29T20:59:57.289197Z",
     "shell.execute_reply": "2025-03-29T20:59:57.288267Z",
     "shell.execute_reply.started": "2025-03-29T20:59:57.278777Z"
    },
    "executionInfo": {
     "elapsed": 718,
     "status": "ok",
     "timestamp": 1666263367326,
     "user": {
      "displayName": "B INFOs",
      "userId": "12264414988845169074"
     },
     "user_tz": -300
    },
    "id": "R6vEvK_n3KI5",
    "outputId": "c8ef2f23-ad8a-4433-a161-774380aa2d33",
    "trusted": true
   },
   "outputs": [
    {
     "data": {
      "text/plain": [
       "good                   0.17\n",
       "color                  0.17\n",
       "cut                    0.17\n",
       "hole                   0.17\n",
       "metal_contamination    0.17\n",
       "thread                 0.17\n",
       "Name: indication_type, dtype: float64"
      ]
     },
     "execution_count": 6,
     "metadata": {},
     "output_type": "execute_result"
    }
   ],
   "source": [
    "# check the classes distribution\n",
    "train_df64.indication_type.value_counts(normalize=True).round(2)"
   ]
  },
  {
   "cell_type": "markdown",
   "metadata": {
    "id": "UCVctEdG3XjZ"
   },
   "source": [
    "### Preprocessing"
   ]
  },
  {
   "cell_type": "code",
   "execution_count": 14,
   "metadata": {
    "execution": {
     "iopub.execute_input": "2025-03-29T21:00:01.468465Z",
     "iopub.status.busy": "2025-03-29T21:00:01.468126Z",
     "iopub.status.idle": "2025-03-29T21:00:01.478993Z",
     "shell.execute_reply": "2025-03-29T21:00:01.478079Z",
     "shell.execute_reply.started": "2025-03-29T21:00:01.468437Z"
    },
    "id": "ZdzfRZapVsrl",
    "trusted": true
   },
   "outputs": [],
   "source": [
    "class H5ToStorage:\n",
    "    def __init__(self, hdf_path, ds_name=\"train\"):\n",
    "        self.path = hdf_path\n",
    "        self.classes = []\n",
    "        with h5py.File(self.path, 'r') as hf:\n",
    "            for class_ in hf:\n",
    "                if class_ != \"color\":\n",
    "                    self.classes.append(class_)\n",
    "\n",
    "        self.name = ds_name\n",
    "\n",
    "    # Generator để nạp (img, class, angle)\n",
    "    def generate_img_arr(self):\n",
    "        for class_ in self.classes:\n",
    "            with h5py.File(self.path, 'r') as hf:\n",
    "                for angle in hf[class_]:\n",
    "                        for img in hf[class_][f\"{angle}\"]:\n",
    "                            yield img, class_, angle\n",
    "\n",
    "    # Tạo thư mục và xử lý ảnh cho tập huấn luyện\n",
    "    def generate_train_dirs(self):\n",
    "        # Tạo các thư mục cho từng lớp\n",
    "        path = rf\"E:\\KPDL-CK\\data\\raw\\dataset\\{self.name}\"\n",
    "        for cl in self.classes:\n",
    "            os.makedirs(f\"{path}/{cl}/\", exist_ok=True)\n",
    "\n",
    "        gen = self.generate_img_arr()\n",
    "        metadata = {}\n",
    "\n",
    "        for i, data in enumerate(gen):\n",
    "            img, label, angle = data\n",
    "            # Lưu ảnh vào thư mục tương ứng với nhãn của nó\n",
    "            if label != \"color\":\n",
    "                img_path = f\"{path}/{label}/{i}_{angle}.jpeg\"\n",
    "                plt.imsave(img_path, np.squeeze(img)*255.,cmap='gray')\n",
    "                metadata[img_path] = angle\n",
    "\n",
    "        return metadata\n",
    "    \n",
    "    # Tạo thư mục và xử lý ảnh cho tập kiểm thử\n",
    "    def generate_test_dirs(self):\n",
    "        # Tạo các thư mục cho từng lớp\n",
    "        path = rf\"E:\\KPDL-CK\\data\\raw\\dataset\\{self.name}\"\n",
    "        for cl in self.classes:\n",
    "            os.makedirs(f\"{path}/{cl}/\", exist_ok=True)\n",
    "\n",
    "        gen = self.generate_img_arr()\n",
    "        metadata = {}\n",
    "\n",
    "        for i, data in enumerate(gen):\n",
    "            img, label, angle = data\n",
    "            if label != \"color\":\n",
    "                img_path = f\"{path}/{label}/{i}_{angle}.jpeg\"\n",
    "                plt.imsave(img_path, np.squeeze(img)*255.,cmap='gray')\n",
    "                metadata[img_path] = angle\n",
    "\n",
    "        return metadata\n",
    "    def to_storage(self):\n",
    "        if self.name == \"train\":\n",
    "            self.generate_train_dirs()\n",
    "        elif self.name == \"test\":\n",
    "            self.generate_test_dirs()\n",
    "\n",
    "\n"
   ]
  },
  {
   "cell_type": "code",
   "execution_count": 15,
   "metadata": {},
   "outputs": [],
   "source": [
    "train_gen = H5ToStorage(r\"E:\\KPDL-CK\\data\\raw\\textiledefectdetection\\matchingtDATASET_train_64.h5\", \"train\")\n",
    "train_dict = train_gen.to_storage()"
   ]
  },
  {
   "cell_type": "code",
   "execution_count": 16,
   "metadata": {
    "execution": {
     "iopub.execute_input": "2025-03-29T20:54:08.839361Z",
     "iopub.status.busy": "2025-03-29T20:54:08.839079Z"
    },
    "id": "vsZHYiIbVsrm",
    "trusted": true
   },
   "outputs": [],
   "source": [
    "# generate test data\n",
    "test_gen = H5ToStorage(r\"E:\\KPDL-CK\\data\\raw\\textiledefectdetection\\matchingtDATASET_test_64.h5\", \"test\")\n",
    "test_dict = test_gen.to_storage()"
   ]
  }
 ],
 "metadata": {
  "kaggle": {
   "accelerator": "nvidiaTeslaT4",
   "dataSources": [
    {
     "datasetId": 652942,
     "sourceId": 1160031,
     "sourceType": "datasetVersion"
    }
   ],
   "dockerImageVersionId": 30301,
   "isGpuEnabled": true,
   "isInternetEnabled": true,
   "language": "python",
   "sourceType": "notebook"
  },
  "kernelspec": {
   "display_name": "Python 3",
   "language": "python",
   "name": "python3"
  },
  "language_info": {
   "codemirror_mode": {
    "name": "ipython",
    "version": 3
   },
   "file_extension": ".py",
   "mimetype": "text/x-python",
   "name": "python",
   "nbconvert_exporter": "python",
   "pygments_lexer": "ipython3",
   "version": "3.11.8"
  }
 },
 "nbformat": 4,
 "nbformat_minor": 4
}
